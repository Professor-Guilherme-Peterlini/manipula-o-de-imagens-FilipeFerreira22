{
 "cells": [
  {
   "cell_type": "code",
   "execution_count": 12,
   "metadata": {},
   "outputs": [
    {
     "name": "stdout",
     "output_type": "stream",
     "text": [
      "Requirement already satisfied: Pillow in /home/codespace/.local/lib/python3.12/site-packages (11.0.0)\n",
      "Note: you may need to restart the kernel to use updated packages.\n"
     ]
    }
   ],
   "source": [
    "pip install Pillow"
   ]
  },
  {
   "cell_type": "code",
   "execution_count": 13,
   "metadata": {},
   "outputs": [],
   "source": [
    "from PIL import Image, ImageEnhance, ImageFilter\n"
   ]
  },
  {
   "cell_type": "code",
   "execution_count": 14,
   "metadata": {},
   "outputs": [],
   "source": [
    "# Importando imagem\n",
    "imagem = Image.open(\"messi.png\")\n",
    "\n"
   ]
  },
  {
   "cell_type": "code",
   "execution_count": 15,
   "metadata": {},
   "outputs": [
    {
     "name": "stdout",
     "output_type": "stream",
     "text": [
      "Formato: JPEG \n",
      "Tamanho: (1280, 720) \n",
      "Formato: RGB \n"
     ]
    }
   ],
   "source": [
    "# Exibindo informações da imagem\n",
    "print(f\"Formato: {imagem.format} \")\n",
    "print(f\"Tamanho: {imagem.size} \")\n",
    "print(f\"Formato: {imagem.mode} \")"
   ]
  },
  {
   "cell_type": "code",
   "execution_count": 16,
   "metadata": {},
   "outputs": [],
   "source": [
    "# Exercício 1\n",
    "# Criar uma função para redimensionar a imagem em 50%\n",
    "\n",
    "def redimensionar_imagem(imagem, fator=0.5):\n",
    "    novo_tamanho = (int(imagem.size[0] * fator), int(imagem.size[1] * fator))\n",
    "    imagem_redimensionada = imagem_redimensionada = imagem.resize(novo_tamanho)\n",
    "    return imagem_redimensionada\n",
    "#Testando a função\n",
    "imagem_pequena = redimensionar_imagem(imagem)\n",
    "imagem_pequena.save(\"imagem_redimensionada.jpg\")"
   ]
  },
  {
   "cell_type": "code",
   "execution_count": null,
   "metadata": {},
   "outputs": [],
   "source": [
    "# Exercício 2\n",
    "# Rotação e Espelhamento.\n",
    "def transformar_imagem(imagem):\n",
    "    # Rotação da imagem em 45 graus\n",
    "    rotacionada = imagem.rotate(45, expand=True)\n",
    "\n",
    "    espelhada = imagem.transpose(Image.FLIP_LEFT_RIGHT)\n",
    "\n",
    "    return rotacionada, espelhada\n",
    "\n",
    "#testando a função\n",
    "rotacionada, espelhada = transformar_imagem(imagem)\n",
    "rotacionada.save('imagem_rotacionada.jpg')\n",
    "espelhada.save('imagem_espelhada.jpg')"
   ]
  },
  {
   "cell_type": "code",
   "execution_count": 21,
   "metadata": {},
   "outputs": [],
   "source": [
    "# Exercício 3\n",
    "# Criar uma função que aplique vários filtros diferentes.\n",
    "def aplicar_filtros(imagem):\n",
    "    # Aumentar nitidez\n",
    "    nitidez = imagem.filter(ImageFilter.SHARPEN)\n",
    "\n",
    "    # Aplicar desfoque\n",
    "    desfoque = imagem.filter(ImageFilter.BLUR)\n",
    "    \n",
    "    # Encontrar bordas\n",
    "    bordas = imagem.filter(ImageFilter.FIND_EDGES)\n",
    "\n",
    "    return nitidez, desfoque, bordas\n",
    "\n",
    "# Testando os filtros\n",
    "nitidez, desfoque, bordas = aplicar_filtros(imagem)\n",
    "nitidez.save('imagem_nitida.jpg')\n",
    "desfoque.save('imagem_desfocada.jpg')\n",
    "bordas.save('imagem_bordas.jpg')"
   ]
  },
  {
   "cell_type": "code",
   "execution_count": 35,
   "metadata": {},
   "outputs": [],
   "source": [
    "# Desafio Final\n",
    "\n",
    "def processamento_completo(imagem):\n",
    "    # Redimensionamento\n",
    "    img_redimensionada = redimensionar_imagem(imagem, 0.75)\n",
    "\n",
    "    # Rotação\n",
    "    img_rotacionada = img_redimensionada.rotate(30, expand=True)\n",
    "\n",
    "    # Filtro de nitidez\n",
    "    img_filtrada = img_rotacionada.filter(ImageFilter.SHARPEN)\n",
    "\n",
    "    # Ajuste de brilho e contraste\n",
    "    enhancer = ImageEnhance.Brightness(img_filtrada)\n",
    "    img_brilho = enhancer.enhance(1.2) # Aumenta o brilho em 20%\n",
    "\n",
    "    enhancer = ImageEnhance.Contrast(img_brilho)\n",
    "    img_final = enhancer.enhance(1.3) # Aumenta o contraste em 30%\n",
    "\n",
    "    return img_final\n",
    "\n",
    "# Testando o processamento completo\n",
    "imagem_final = processamento_completo(imagem)\n",
    "imagem_final.save('imagem_processada.jpg')\n",
    "\n"
   ]
  }
 ],
 "metadata": {
  "kernelspec": {
   "display_name": "Python 3",
   "language": "python",
   "name": "python3"
  },
  "language_info": {
   "codemirror_mode": {
    "name": "ipython",
    "version": 3
   },
   "file_extension": ".py",
   "mimetype": "text/x-python",
   "name": "python",
   "nbconvert_exporter": "python",
   "pygments_lexer": "ipython3",
   "version": "3.12.1"
  }
 },
 "nbformat": 4,
 "nbformat_minor": 2
}
